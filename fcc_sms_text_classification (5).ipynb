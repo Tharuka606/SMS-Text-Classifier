{
  "cells": [
    {
      "cell_type": "code",
      "execution_count": null,
      "metadata": {
        "id": "8RZOuS9LWQvv",
        "collapsed": true
      },
      "outputs": [],
      "source": [
        "# import libraries\n",
        "try:\n",
        "  # %tensorflow_version only exists in Colab.\n",
        "  !pip install tf-nightly\n",
        "except Exception:\n",
        "  pass\n",
        "import tensorflow as tf\n",
        "import pandas as pd\n",
        "from tensorflow import keras\n",
        "!pip install tensorflow-datasets\n",
        "import tensorflow_datasets as tfds\n",
        "import numpy as np\n",
        "import matplotlib.pyplot as plt\n",
        "\n",
        "print(tf.__version__)"
      ]
    },
    {
      "cell_type": "code",
      "execution_count": null,
      "metadata": {
        "id": "lMHwYXHXCar3",
        "collapsed": true
      },
      "outputs": [],
      "source": [
        "# get data files\n",
        "!wget https://cdn.freecodecamp.org/project-data/sms/train-data.tsv\n",
        "!wget https://cdn.freecodecamp.org/project-data/sms/valid-data.tsv\n",
        "\n",
        "train_file_path = \"train-data.tsv\"\n",
        "test_file_path = \"valid-data.tsv\""
      ]
    },
    {
      "cell_type": "code",
      "source": [
        "# Load the data\n",
        "train_data = pd.read_csv(train_file_path, sep=\"\\t\", header=None, names=[\"label\", \"message\"])\n",
        "test_data = pd.read_csv(test_file_path, sep=\"\\t\", header=None, names=[\"label\", \"message\"])\n",
        "\n",
        "# Map the labels\n",
        "train_data[\"label_num\"] = train_data[\"label\"].map({\"ham\": 0, \"spam\": 1})\n",
        "test_data[\"label_num\"] = test_data[\"label\"].map({\"ham\": 0, \"spam\": 1})\n",
        "\n",
        "# Split into features and labels\n",
        "X_train = train_data[\"message\"]\n",
        "y_train = train_data[\"label_num\"]\n"
      ],
      "metadata": {
        "id": "Hk47tcsDIiz9"
      },
      "execution_count": 43,
      "outputs": []
    },
    {
      "cell_type": "code",
      "source": [
        "# Visualize class distribution\n",
        "import seaborn as sns\n",
        "import matplotlib.pyplot as plt\n",
        "\n",
        "plt.figure(figsize=(6,4))\n",
        "sns.countplot(data=train_data, x=\"label\", palette=\"Set2\")\n",
        "plt.title(\"Training Set: Spam vs Ham Message Count\")\n",
        "plt.xlabel(\"Message Type\")\n",
        "plt.ylabel(\"Count\")\n",
        "plt.show()"
      ],
      "metadata": {
        "id": "jmmEoeRLLNDU"
      },
      "execution_count": null,
      "outputs": []
    },
    {
      "cell_type": "code",
      "source": [
        "from collections import Counter\n",
        "import itertools\n",
        "\n",
        "def get_top_n_words(messages, n=20):\n",
        "    all_words = list(itertools.chain(*[msg.lower().split() for msg in messages]))\n",
        "    return dict(Counter(all_words).most_common(n))\n",
        "\n",
        "spam_words = get_top_n_words(train_data[train_data[\"label\"] == \"spam\"][\"message\"])\n",
        "ham_words = get_top_n_words(train_data[train_data[\"label\"] == \"ham\"][\"message\"])\n",
        "\n",
        "# Plot spam words\n",
        "plt.figure(figsize=(8,4))\n",
        "sns.barplot(x=list(spam_words.values()), y=list(spam_words.keys()), color=\"red\")\n",
        "plt.title(\"Top Words in Spam Messages\")\n",
        "plt.xlabel(\"Frequency\")\n",
        "plt.ylabel(\"Words\")\n",
        "plt.show()\n",
        "\n",
        "# Plot ham words\n",
        "plt.figure(figsize=(8,4))\n",
        "sns.barplot(x=list(ham_words.values()), y=list(ham_words.keys()), color=\"blue\")\n",
        "plt.title(\"Top Words in Ham Messages\")\n",
        "plt.xlabel(\"Frequency\")\n",
        "plt.ylabel(\"Words\")\n",
        "plt.show()"
      ],
      "metadata": {
        "id": "ZMabM4b8LX9R"
      },
      "execution_count": null,
      "outputs": []
    },
    {
      "cell_type": "code",
      "source": [
        "from sklearn.pipeline import Pipeline\n",
        "from sklearn.feature_extraction.text import CountVectorizer  # use CountVectorizer here!\n",
        "from sklearn.naive_bayes import MultinomialNB\n",
        "\n",
        "model = Pipeline([\n",
        "    ('vect', CountVectorizer()),\n",
        "    ('nb', MultinomialNB())\n",
        "])\n",
        "\n",
        "model.fit(X_train, y_train)\n"
      ],
      "metadata": {
        "id": "slk_uCdbImMp"
      },
      "execution_count": null,
      "outputs": []
    },
    {
      "cell_type": "code",
      "source": [
        "def predict_message(pred_text):\n",
        "    spam_prob = model.predict_proba([pred_text])[0][1]  # Get probability of 'spam'\n",
        "    label = \"spam\" if spam_prob >= 0.5 else \"ham\"\n",
        "    return [float(spam_prob), label]\n"
      ],
      "metadata": {
        "id": "4yzxaAdYIoo0"
      },
      "execution_count": 49,
      "outputs": []
    },
    {
      "cell_type": "code",
      "source": [
        "# Visualize prediction confidence for each test message\n",
        "test_messages = [\n",
        "    \"how are you doing today\",\n",
        "    \"sale today! to stop texts call 98912460324\",\n",
        "    \"i dont want to go. can we try it a different day? available sat\",\n",
        "    \"our new mobile video service is live. just install on your phone to start watching.\",\n",
        "    \"you have won £1000 cash! call to claim your prize.\",\n",
        "    \"i'll bring it tomorrow. don't forget the milk.\",\n",
        "    \"wow, is your arm alright. that happened to me one time too\"\n",
        "]\n",
        "\n",
        "probs = []\n",
        "labels = []\n",
        "\n",
        "for msg in test_messages:\n",
        "    result = predict_message(msg)\n",
        "    probs.append(result[0])\n",
        "    labels.append(result[1])\n",
        "\n",
        "plt.figure(figsize=(8,5))\n",
        "sns.barplot(x=probs, y=test_messages, hue=labels, dodge=False)\n",
        "plt.title(\"Model Confidence (Probability of Spam)\")\n",
        "plt.xlabel(\"Spam Probability\")\n",
        "plt.ylabel(\"Message\")\n",
        "plt.xlim(0,1)\n",
        "plt.legend(title=\"Predicted Label\")\n",
        "plt.tight_layout()\n",
        "plt.show()"
      ],
      "metadata": {
        "id": "aoQhooirLcf2"
      },
      "execution_count": null,
      "outputs": []
    },
    {
      "cell_type": "code",
      "execution_count": null,
      "metadata": {
        "id": "Dxotov85SjsC"
      },
      "outputs": [],
      "source": [
        "# Run this cell to test your function and model. Do not modify contents.\n",
        "def test_predictions():\n",
        "  test_messages = [\"how are you doing today\",\n",
        "                   \"sale today! to stop texts call 98912460324\",\n",
        "                   \"i dont want to go. can we try it a different day? available sat\",\n",
        "                   \"our new mobile video service is live. just install on your phone to start watching.\",\n",
        "                   \"you have won £1000 cash! call to claim your prize.\",\n",
        "                   \"i'll bring it tomorrow. don't forget the milk.\",\n",
        "                   \"wow, is your arm alright. that happened to me one time too\"\n",
        "                  ]\n",
        "\n",
        "  test_answers = [\"ham\", \"spam\", \"ham\", \"spam\", \"spam\", \"ham\", \"ham\"]\n",
        "  passed = True\n",
        "\n",
        "  for msg, ans in zip(test_messages, test_answers):\n",
        "    prediction = predict_message(msg)\n",
        "    if prediction[1] != ans:\n",
        "      passed = False\n",
        "\n",
        "  if passed:\n",
        "    print(\"You passed the challenge. Great job!\")\n",
        "  else:\n",
        "    print(\"You haven't passed yet. Keep trying.\")\n",
        "\n",
        "test_predictions()\n"
      ]
    }
  ],
  "metadata": {
    "colab": {
      "name": "fcc_sms_text_classification.ipynb",
      "provenance": [],
      "gpuType": "T4"
    },
    "kernelspec": {
      "display_name": "Python 3",
      "name": "python3"
    },
    "language_info": {
  "name": "python",
  "version": "3.10"
}
    "accelerator": "GPU"
  },
  "nbformat": 4,
  "nbformat_minor": 0
}